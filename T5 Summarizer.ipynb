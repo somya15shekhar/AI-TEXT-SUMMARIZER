{
 "cells": [
  {
   "cell_type": "markdown",
   "id": "f65ff6ee-c4a1-4fcb-9134-dde6f69c45f8",
   "metadata": {},
   "source": [
    "## Import Modules"
   ]
  },
  {
   "cell_type": "code",
   "execution_count": 1,
   "id": "4cee2092-5fff-48a5-8380-05adc073eb2e",
   "metadata": {},
   "outputs": [
    {
     "name": "stderr",
     "output_type": "stream",
     "text": [
      "c:\\Users\\Somya Shekhar\\Desktop\\Data Science\\Beginner Text Summary\\venv\\lib\\site-packages\\tqdm\\auto.py:21: TqdmWarning: IProgress not found. Please update jupyter and ipywidgets. See https://ipywidgets.readthedocs.io/en/stable/user_install.html\n",
      "  from .autonotebook import tqdm as notebook_tqdm\n"
     ]
    }
   ],
   "source": [
    "import pandas as pd\n",
    "import torch # component of PyTorch library used for Deep Learning\n",
    "import sentencepiece\n",
    "from transformers import T5Tokenizer, T5ForConditionalGeneration, T5Config\n"
   ]
  },
  {
   "cell_type": "markdown",
   "id": "0166efcf-dc54-4685-b000-15744c7e59df",
   "metadata": {},
   "source": [
    "## Initialize pretrained data model"
   ]
  },
  {
   "cell_type": "code",
   "execution_count": 2,
   "id": "4594253e-d328-4bee-b2b8-8d12271b1175",
   "metadata": {},
   "outputs": [
    {
     "name": "stderr",
     "output_type": "stream",
     "text": [
      "You are using the default legacy behaviour of the <class 'transformers.models.t5.tokenization_t5.T5Tokenizer'>. This is expected, and simply means that the `legacy` (previous) behavior will be used so nothing changes for you. If you want to use the new behaviour, set `legacy=False`. This should only be set if you understand what it means, and thoroughly read the reason why this was added as explained in https://github.com/huggingface/transformers/pull/24565\n"
     ]
    }
   ],
   "source": [
    "# T5ForConditionalGeneration used for  generate text based on input prompts or conditions, a variety of conditional generation tasks.\n",
    "model = T5ForConditionalGeneration.from_pretrained('t5-small')\n",
    "\n",
    "tokenizer = T5Tokenizer.from_pretrained('t5-small')  #from_pretained -> loads pre trained weights and initializes a tokenizer for t5-small model\n",
    "device = torch.device('cpu')   # PyTorch operations to run on the CPU, which is helpful for debugging, ensuring consistent results"
   ]
  },
  {
   "cell_type": "markdown",
   "id": "7d3d129c-fd99-4584-b0aa-1dfdfa702404",
   "metadata": {},
   "source": [
    "## Load Dataset"
   ]
  },
  {
   "cell_type": "code",
   "execution_count": 3,
   "id": "cb5e7ed2-5a3f-41ad-9c9c-29a761d0a59e",
   "metadata": {},
   "outputs": [],
   "source": [
    "\n",
    "import opendatasets as od"
   ]
  },
  {
   "cell_type": "code",
   "execution_count": 4,
   "id": "775e2364-b26f-4d2d-804e-f47ae5d1b85e",
   "metadata": {},
   "outputs": [
    {
     "name": "stdout",
     "output_type": "stream",
     "text": [
      "Skipping, found downloaded files in \".\\newspaper-text-summarization-cnn-dailymail\" (use force=True to force download)\n"
     ]
    }
   ],
   "source": [
    "dataset = \"https://www.kaggle.com/datasets/gowrishankarp/newspaper-text-summarization-cnn-dailymail?resource=download\"\n",
    "od.download(dataset)"
   ]
  },
  {
   "cell_type": "code",
   "execution_count": 5,
   "id": "abf6ffa3-4923-43e5-9e97-aebf4a4057f2",
   "metadata": {},
   "outputs": [
    {
     "data": {
      "text/plain": [
       "['test.csv', 'train.csv', 'validation.csv']"
      ]
     },
     "execution_count": 5,
     "metadata": {},
     "output_type": "execute_result"
    }
   ],
   "source": [
    "import os\n",
    "datadir= r\"C:\\Users\\Somya Shekhar\\Desktop\\Data Science\\Beginner Text Summary\\newspaper-text-summarization-cnn-dailymail\\cnn_dailymail\"\n",
    "os.listdir(datadir)"
   ]
  },
  {
   "cell_type": "code",
   "execution_count": 6,
   "id": "4390c99f-5e2f-4bf5-a5c6-18a51525fc6c",
   "metadata": {
    "scrolled": true
   },
   "outputs": [],
   "source": [
    "df_train = pd.read_csv(datadir + \"/train.csv\")"
   ]
  },
  {
   "cell_type": "code",
   "execution_count": 7,
   "id": "62276776-e208-4561-814b-84f8bfdd14bc",
   "metadata": {},
   "outputs": [
    {
     "data": {
      "text/html": [
       "<div>\n",
       "<style scoped>\n",
       "    .dataframe tbody tr th:only-of-type {\n",
       "        vertical-align: middle;\n",
       "    }\n",
       "\n",
       "    .dataframe tbody tr th {\n",
       "        vertical-align: top;\n",
       "    }\n",
       "\n",
       "    .dataframe thead th {\n",
       "        text-align: right;\n",
       "    }\n",
       "</style>\n",
       "<table border=\"1\" class=\"dataframe\">\n",
       "  <thead>\n",
       "    <tr style=\"text-align: right;\">\n",
       "      <th></th>\n",
       "      <th>id</th>\n",
       "      <th>article</th>\n",
       "      <th>highlights</th>\n",
       "    </tr>\n",
       "  </thead>\n",
       "  <tbody>\n",
       "    <tr>\n",
       "      <th>0</th>\n",
       "      <td>0001d1afc246a7964130f43ae940af6bc6c57f01</td>\n",
       "      <td>By . Associated Press . PUBLISHED: . 14:11 EST...</td>\n",
       "      <td>Bishop John Folda, of North Dakota, is taking ...</td>\n",
       "    </tr>\n",
       "    <tr>\n",
       "      <th>1</th>\n",
       "      <td>0002095e55fcbd3a2f366d9bf92a95433dc305ef</td>\n",
       "      <td>(CNN) -- Ralph Mata was an internal affairs li...</td>\n",
       "      <td>Criminal complaint: Cop used his role to help ...</td>\n",
       "    </tr>\n",
       "    <tr>\n",
       "      <th>2</th>\n",
       "      <td>00027e965c8264c35cc1bc55556db388da82b07f</td>\n",
       "      <td>A drunk driver who killed a young woman in a h...</td>\n",
       "      <td>Craig Eccleston-Todd, 27, had drunk at least t...</td>\n",
       "    </tr>\n",
       "    <tr>\n",
       "      <th>3</th>\n",
       "      <td>0002c17436637c4fe1837c935c04de47adb18e9a</td>\n",
       "      <td>(CNN) -- With a breezy sweep of his pen Presid...</td>\n",
       "      <td>Nina dos Santos says Europe must be ready to a...</td>\n",
       "    </tr>\n",
       "    <tr>\n",
       "      <th>4</th>\n",
       "      <td>0003ad6ef0c37534f80b55b4235108024b407f0b</td>\n",
       "      <td>Fleetwood are the only team still to have a 10...</td>\n",
       "      <td>Fleetwood top of League One after 2-0 win at S...</td>\n",
       "    </tr>\n",
       "  </tbody>\n",
       "</table>\n",
       "</div>"
      ],
      "text/plain": [
       "                                         id  \\\n",
       "0  0001d1afc246a7964130f43ae940af6bc6c57f01   \n",
       "1  0002095e55fcbd3a2f366d9bf92a95433dc305ef   \n",
       "2  00027e965c8264c35cc1bc55556db388da82b07f   \n",
       "3  0002c17436637c4fe1837c935c04de47adb18e9a   \n",
       "4  0003ad6ef0c37534f80b55b4235108024b407f0b   \n",
       "\n",
       "                                             article  \\\n",
       "0  By . Associated Press . PUBLISHED: . 14:11 EST...   \n",
       "1  (CNN) -- Ralph Mata was an internal affairs li...   \n",
       "2  A drunk driver who killed a young woman in a h...   \n",
       "3  (CNN) -- With a breezy sweep of his pen Presid...   \n",
       "4  Fleetwood are the only team still to have a 10...   \n",
       "\n",
       "                                          highlights  \n",
       "0  Bishop John Folda, of North Dakota, is taking ...  \n",
       "1  Criminal complaint: Cop used his role to help ...  \n",
       "2  Craig Eccleston-Todd, 27, had drunk at least t...  \n",
       "3  Nina dos Santos says Europe must be ready to a...  \n",
       "4  Fleetwood top of League One after 2-0 win at S...  "
      ]
     },
     "execution_count": 7,
     "metadata": {},
     "output_type": "execute_result"
    }
   ],
   "source": [
    "df_train.head()"
   ]
  },
  {
   "cell_type": "markdown",
   "id": "5b8a9c74-b530-496a-8a10-4866a7315450",
   "metadata": {},
   "source": [
    "## Clean Input Text"
   ]
  },
  {
   "cell_type": "code",
   "execution_count": 8,
   "id": "c2acb612-3284-481f-8a1e-9b1797a9ebfb",
   "metadata": {},
   "outputs": [],
   "source": [
    "df_train = df_train[['article', 'highlights']].rename(columns={'article': 'text', 'highlights': 'summary'})"
   ]
  },
  {
   "cell_type": "code",
   "execution_count": 9,
   "id": "e296c68c-f6ec-4bc7-b722-33ff371e6190",
   "metadata": {
    "scrolled": true
   },
   "outputs": [],
   "source": [
    "#preprocess the text and summary columns\n",
    "df_train['text'] = df_train['text'].str.replace(r'\\n', ' ', regex=True).str.strip()\n",
    "df_train['summary'] = df_train['summary'].str.replace(r'\\n', ' ', regex=True).str.strip()\n",
    "\n",
    "\n",
    "\n"
   ]
  },
  {
   "cell_type": "code",
   "execution_count": 12,
   "id": "67844033-0b7c-42ed-8bb2-51a10280807f",
   "metadata": {},
   "outputs": [],
   "source": [
    "def preprocess_text(text, max_length=512):\n",
    "    return tokenizer.encode(text, max_length=max_length, truncation=True, return_tensors='pt').to(device)\n",
    "\n",
    "# turns the summary text into seq of token ids, return result as PyTorch tensor, ready to be fed into a model on the specified device i.e CPU."
   ]
  },
  {
   "cell_type": "code",
   "execution_count": 18,
   "id": "4ba15623-8917-424f-8a6a-73b17929c81c",
   "metadata": {},
   "outputs": [
    {
     "name": "stdout",
     "output_type": "stream",
     "text": [
      "Article 1 Summary: the bishop of the Fargo Catholic Diocese in North Dakota has exposed potentially hundreds of church members in fargo, Grand Forks and Jamestown to the hepatitis A virus in late September and early October. the state Health Department has issued an advisory of exposure for anyone who attended five churches and took communion.\n",
      "Article 2 Summary: the organization that allegedly conspired to distribute cocaine. a criminal complaint alleges that Ralph Mata worked with a drug trafficking organization. he was arrested in Miami Gardens, Florida, on Tuesday.\n",
      "Article 3 Summary: Craig Eccleston-Todd, 27, was driving home from a night at a pub. as he was reading or replying to text message, he veered across road. he smashed into the car being driven by Rachel Titley, 28. she died later from her injuries in hospital. Eccleston-Todd was jailed for six years for causing death by dangerous driving.\n",
      "Article 4 Summary: a'money talks' card, Europe must be ready for the consequences of such action. a strategy might also be a silver lining: awarding EU countries a'money talks' card. a strategy could also be a silver lining: awarding EU countries a'money talks' card.\n",
      "Article 5 Summary: Fleetwood are the only team to have a 100% record in Sky Bet League One. the Cod Army are the only team still to have a 100% record in the league one. the rest of the club have won two out of two games in nine years.\n"
     ]
    }
   ],
   "source": [
    "# for first 5 articles in the dataset, we preprocess the text and summary columns.\n",
    "for i in range(5):\n",
    "    input_ids = preprocess_text(df_train['text'][i])  # Preprocess the text of the i-th article\n",
    "    summary_ids = model.generate(input_ids, max_length=150)  # Generate a summary for the preprocessed text\n",
    "\n",
    "    # The model generates a summary based on the input text, with a maximum length of 150 tokens.\n",
    "\n",
    "    summary = tokenizer.decode(summary_ids[0], skip_special_tokens=True)  # Decode the generated summary\n",
    "    print(f\"Article {i+1} Summary: {summary}\")  # Print the"
   ]
  }
 ],
 "metadata": {
  "kernelspec": {
   "display_name": "venv",
   "language": "python",
   "name": "python3"
  },
  "language_info": {
   "codemirror_mode": {
    "name": "ipython",
    "version": 3
   },
   "file_extension": ".py",
   "mimetype": "text/x-python",
   "name": "python",
   "nbconvert_exporter": "python",
   "pygments_lexer": "ipython3",
   "version": "3.10.10"
  }
 },
 "nbformat": 4,
 "nbformat_minor": 5
}
