{
 "cells": [
  {
   "cell_type": "code",
   "execution_count": null,
   "id": "4103aadc-f42f-4c89-a1ea-9374a657373f",
   "metadata": {},
   "outputs": [],
   "source": [
    "\n"
   ]
  },
  {
   "cell_type": "markdown",
   "id": "f65ff6ee-c4a1-4fcb-9134-dde6f69c45f8",
   "metadata": {},
   "source": [
    "## Import Modules"
   ]
  },
  {
   "cell_type": "code",
   "execution_count": 6,
   "id": "4cee2092-5fff-48a5-8380-05adc073eb2e",
   "metadata": {},
   "outputs": [],
   "source": [
    "import pandas as pd\n",
    "import torch # component of PyTorch library used for Deep Learning\n",
    "import sentencepiece\n",
    "from transformers import T5Tokenizer, T5ForConditionalGeneration, T5Config\n"
   ]
  },
  {
   "cell_type": "markdown",
   "id": "0166efcf-dc54-4685-b000-15744c7e59df",
   "metadata": {},
   "source": [
    "## Initialize pretrained data model"
   ]
  },
  {
   "cell_type": "code",
   "execution_count": 9,
   "id": "4594253e-d328-4bee-b2b8-8d12271b1175",
   "metadata": {},
   "outputs": [
    {
     "name": "stderr",
     "output_type": "stream",
     "text": [
      "You are using the default legacy behaviour of the <class 'transformers.models.t5.tokenization_t5.T5Tokenizer'>. This is expected, and simply means that the `legacy` (previous) behavior will be used so nothing changes for you. If you want to use the new behaviour, set `legacy=False`. This should only be set if you understand what it means, and thoroughly read the reason why this was added as explained in https://github.com/huggingface/transformers/pull/24565\n"
     ]
    }
   ],
   "source": [
    "# T5ForConditionalGeneration used for  generate text based on input prompts or conditions, a variety of conditional generation tasks.\n",
    "model = T5ForConditionalGeneration.from_pretrained('t5-small')\n",
    "\n",
    "tokenizer = T5Tokenizer.from_pretrained('t5-small')  #from_pretained -> loads pre trained weights and initializes a tokenizer for t5-small model\n",
    "device = torch.device('cpu')   # PyTorch operations to run on the CPU, which is helpful for debugging, ensuring consistent results"
   ]
  },
  {
   "cell_type": "markdown",
   "id": "7d3d129c-fd99-4584-b0aa-1dfdfa702404",
   "metadata": {},
   "source": [
    "## Load Dataset"
   ]
  },
  {
   "cell_type": "code",
   "execution_count": 12,
   "id": "cb5e7ed2-5a3f-41ad-9c9c-29a761d0a59e",
   "metadata": {},
   "outputs": [],
   "source": [
    "\n",
    "import opendatasets as od"
   ]
  },
  {
   "cell_type": "code",
   "execution_count": 14,
   "id": "775e2364-b26f-4d2d-804e-f47ae5d1b85e",
   "metadata": {},
   "outputs": [
    {
     "name": "stdout",
     "output_type": "stream",
     "text": [
      "Skipping, found downloaded files in \".\\newspaper-text-summarization-cnn-dailymail\" (use force=True to force download)\n"
     ]
    }
   ],
   "source": [
    "dataset = \"https://www.kaggle.com/datasets/gowrishankarp/newspaper-text-summarization-cnn-dailymail?resource=download\"\n",
    "od.download(dataset)"
   ]
  },
  {
   "cell_type": "code",
   "execution_count": 16,
   "id": "abf6ffa3-4923-43e5-9e97-aebf4a4057f2",
   "metadata": {},
   "outputs": [
    {
     "data": {
      "text/plain": [
       "['test.csv', 'train.csv', 'validation.csv']"
      ]
     },
     "execution_count": 16,
     "metadata": {},
     "output_type": "execute_result"
    }
   ],
   "source": [
    "import os\n",
    "datadir= r\"C:\\Users\\Somya Shekhar\\Desktop\\Data Science\\Beginner Text Summary\\newspaper-text-summarization-cnn-dailymail\\cnn_dailymail\"\n",
    "os.listdir(datadir)"
   ]
  },
  {
   "cell_type": "code",
   "execution_count": 18,
   "id": "4390c99f-5e2f-4bf5-a5c6-18a51525fc6c",
   "metadata": {
    "scrolled": true
   },
   "outputs": [],
   "source": [
    "df_train = pd.read_csv(datadir + \"/train.csv\")"
   ]
  },
  {
   "cell_type": "code",
   "execution_count": 19,
   "id": "62276776-e208-4561-814b-84f8bfdd14bc",
   "metadata": {},
   "outputs": [
    {
     "data": {
      "text/html": [
       "<div>\n",
       "<style scoped>\n",
       "    .dataframe tbody tr th:only-of-type {\n",
       "        vertical-align: middle;\n",
       "    }\n",
       "\n",
       "    .dataframe tbody tr th {\n",
       "        vertical-align: top;\n",
       "    }\n",
       "\n",
       "    .dataframe thead th {\n",
       "        text-align: right;\n",
       "    }\n",
       "</style>\n",
       "<table border=\"1\" class=\"dataframe\">\n",
       "  <thead>\n",
       "    <tr style=\"text-align: right;\">\n",
       "      <th></th>\n",
       "      <th>id</th>\n",
       "      <th>article</th>\n",
       "      <th>highlights</th>\n",
       "    </tr>\n",
       "  </thead>\n",
       "  <tbody>\n",
       "    <tr>\n",
       "      <th>0</th>\n",
       "      <td>0001d1afc246a7964130f43ae940af6bc6c57f01</td>\n",
       "      <td>By . Associated Press . PUBLISHED: . 14:11 EST...</td>\n",
       "      <td>Bishop John Folda, of North Dakota, is taking ...</td>\n",
       "    </tr>\n",
       "    <tr>\n",
       "      <th>1</th>\n",
       "      <td>0002095e55fcbd3a2f366d9bf92a95433dc305ef</td>\n",
       "      <td>(CNN) -- Ralph Mata was an internal affairs li...</td>\n",
       "      <td>Criminal complaint: Cop used his role to help ...</td>\n",
       "    </tr>\n",
       "    <tr>\n",
       "      <th>2</th>\n",
       "      <td>00027e965c8264c35cc1bc55556db388da82b07f</td>\n",
       "      <td>A drunk driver who killed a young woman in a h...</td>\n",
       "      <td>Craig Eccleston-Todd, 27, had drunk at least t...</td>\n",
       "    </tr>\n",
       "    <tr>\n",
       "      <th>3</th>\n",
       "      <td>0002c17436637c4fe1837c935c04de47adb18e9a</td>\n",
       "      <td>(CNN) -- With a breezy sweep of his pen Presid...</td>\n",
       "      <td>Nina dos Santos says Europe must be ready to a...</td>\n",
       "    </tr>\n",
       "    <tr>\n",
       "      <th>4</th>\n",
       "      <td>0003ad6ef0c37534f80b55b4235108024b407f0b</td>\n",
       "      <td>Fleetwood are the only team still to have a 10...</td>\n",
       "      <td>Fleetwood top of League One after 2-0 win at S...</td>\n",
       "    </tr>\n",
       "  </tbody>\n",
       "</table>\n",
       "</div>"
      ],
      "text/plain": [
       "                                         id  \\\n",
       "0  0001d1afc246a7964130f43ae940af6bc6c57f01   \n",
       "1  0002095e55fcbd3a2f366d9bf92a95433dc305ef   \n",
       "2  00027e965c8264c35cc1bc55556db388da82b07f   \n",
       "3  0002c17436637c4fe1837c935c04de47adb18e9a   \n",
       "4  0003ad6ef0c37534f80b55b4235108024b407f0b   \n",
       "\n",
       "                                             article  \\\n",
       "0  By . Associated Press . PUBLISHED: . 14:11 EST...   \n",
       "1  (CNN) -- Ralph Mata was an internal affairs li...   \n",
       "2  A drunk driver who killed a young woman in a h...   \n",
       "3  (CNN) -- With a breezy sweep of his pen Presid...   \n",
       "4  Fleetwood are the only team still to have a 10...   \n",
       "\n",
       "                                          highlights  \n",
       "0  Bishop John Folda, of North Dakota, is taking ...  \n",
       "1  Criminal complaint: Cop used his role to help ...  \n",
       "2  Craig Eccleston-Todd, 27, had drunk at least t...  \n",
       "3  Nina dos Santos says Europe must be ready to a...  \n",
       "4  Fleetwood top of League One after 2-0 win at S...  "
      ]
     },
     "execution_count": 19,
     "metadata": {},
     "output_type": "execute_result"
    }
   ],
   "source": [
    "df_train.head()"
   ]
  },
  {
   "cell_type": "markdown",
   "id": "5b8a9c74-b530-496a-8a10-4866a7315450",
   "metadata": {},
   "source": [
    "## Input Text Preprocess"
   ]
  },
  {
   "cell_type": "code",
   "execution_count": 21,
   "id": "c2acb612-3284-481f-8a1e-9b1797a9ebfb",
   "metadata": {},
   "outputs": [],
   "source": [
    "# input text\n",
    "text = \"\"\"\n",
    "Back in the 1950s, the fathers of the field, Minsky and McCarthy, described artificial intelligence as any task performed by a machine that would have previously been considered to require human intelligence.\n",
    "\n",
    "That's obviously a fairly broad definition, which is why you will sometimes see arguments over whether something is truly AI or not.\n",
    "\n",
    "Modern definitions of what it means to create intelligence are more specific. Francois Chollet, an AI researcher at Google and creator of the machine-learning software library Keras, has said intelligence is tied to a system's ability to adapt and improvise in a new environment, to generalise its knowledge and apply it to unfamiliar scenarios.\n",
    "\n",
    "\"Intelligence is the efficiency with which you acquire new skills at tasks you didn't previously prepare for,\" he said.\n",
    "\n",
    "\"Intelligence is not skill itself; it's not what you can do; it's how well and how efficiently you can learn new things.\"\n",
    "\n",
    "It's a definition under which modern AI-powered systems, such as virtual assistants, would be characterised as having demonstrated 'narrow AI', the ability to generalise their training when carrying out a limited set of tasks, such as speech recognition or computer vision.\n",
    "\n",
    "Typically, AI systems demonstrate at least some of the following behaviours associated with human intelligence: planning, learning, reasoning, problem-solving, knowledge representation, perception, motion, and manipulation and, to a lesser extent, social intelligence and creativity.\n",
    "\n",
    "AlexNet's performance demonstrated the power of learning systems based on neural networks, a model for machine learning that had existed for decades but that was finally realising its potential due to refinements to architecture and leaps in parallel processing power made possible by Moore's Law. The prowess of machine-learning systems at carrying out computer vision also hit the headlines that year, with Google training a system to recognise an internet favorite: pictures of cats.\n",
    "\n",
    "The next demonstration of the efficacy of machine-learning systems that caught the public's attention was the 2016 triumph of the Google DeepMind AlphaGo AI over a human grandmaster in Go, an ancient Chinese game whose complexity stumped computers for decades. Go has about possible 200 moves per turn compared to about 20 in Chess. Over the course of a game of Go, there are so many possible moves that are searching through each of them in advance to identify the best play is too costly from a computational point of view. Instead, AlphaGo was trained how to play the game by taking moves played by human experts in 30 million Go games and feeding them into deep-learning neural networks.\n",
    "\"\"\""
   ]
  },
  {
   "cell_type": "code",
   "execution_count": 22,
   "id": "e296c68c-f6ec-4bc7-b722-33ff371e6190",
   "metadata": {
    "scrolled": true
   },
   "outputs": [],
   "source": [
    "\n",
    "preprocessed_text = text.strip().replace('\\n','')\n",
    "t5_input_text = 'summarize: ' + preprocessed_text\n",
    "\n",
    "\n"
   ]
  },
  {
   "cell_type": "code",
   "execution_count": 33,
   "id": "67844033-0b7c-42ed-8bb2-51a10280807f",
   "metadata": {},
   "outputs": [],
   "source": [
    "# turns the input text into seq of token ids, return result as PyTorch tensor, ready to be fed into a model on the specified device i.e CPU. \n",
    "tokenized_text = tokenizer.encode(t5_input_text, return_tensors='pt', max_length=512).to(device)\n",
    "\n"
   ]
  },
  {
   "cell_type": "code",
   "execution_count": 35,
   "id": "4ba15623-8917-424f-8a6a-73b17929c81c",
   "metadata": {},
   "outputs": [],
   "source": [
    "summary_ids = model.generate(tokenized_text, min_length=30, max_length=120)\n",
    "\n",
    "summary = tokenizer.decode(summary_ids[0], skip_special_tokens=True) #turns the generated token IDs into a clean, readable text summary.\n",
    "# skip_special_tokens=True : Removes special tokens like <pad>, <eos>, or <s> from the decoded text."
   ]
  },
  {
   "cell_type": "code",
   "execution_count": 36,
   "id": "fa505a0f-765f-4e09-8dea-f586b3e7f339",
   "metadata": {},
   "outputs": [
    {
     "data": {
      "text/plain": [
       "\"artificial intelligence is a definition of how it means to create intelligence. it's a definition of how AI-powered systems are characterised as having demonstrated 'narrow AI' the technology is a model for machine learning that had existed for decades.\""
      ]
     },
     "execution_count": 36,
     "metadata": {},
     "output_type": "execute_result"
    }
   ],
   "source": [
    "summary"
   ]
  },
  {
   "cell_type": "code",
   "execution_count": null,
   "id": "6ee24487-baa2-4bd4-99e2-a9148b0ff6f0",
   "metadata": {},
   "outputs": [],
   "source": []
  }
 ],
 "metadata": {
  "kernelspec": {
   "display_name": "Python 3 (ipykernel)",
   "language": "python",
   "name": "python3"
  },
  "language_info": {
   "codemirror_mode": {
    "name": "ipython",
    "version": 3
   },
   "file_extension": ".py",
   "mimetype": "text/x-python",
   "name": "python",
   "nbconvert_exporter": "python",
   "pygments_lexer": "ipython3",
   "version": "3.12.4"
  }
 },
 "nbformat": 4,
 "nbformat_minor": 5
}
